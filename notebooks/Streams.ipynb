{
 "cells": [
  {
   "cell_type": "code",
   "execution_count": null,
   "metadata": {},
   "outputs": [],
   "source": [
    "from os import path\n",
    "\n",
    "# Third-party\n",
    "import astropy.units as u\n",
    "import h5py\n",
    "import matplotlib.pyplot as plt\n",
    "import numpy as np\n",
    "%matplotlib inline\n",
    "\n",
    "# Custom\n",
    "import gala.coordinates as gc\n",
    "import gala.dynamics as gd\n",
    "from gala.dynamics.mockstream import fardal_stream\n",
    "import gala.integrate as gi\n",
    "import gala.potential as gp\n",
    "from gala.units import galactic"
   ]
  },
  {
   "cell_type": "code",
   "execution_count": null,
   "metadata": {},
   "outputs": [],
   "source": [
    "pot = gp.MilkyWayPotential()\n",
    "H = gp.Hamiltonian(pot)"
   ]
  },
  {
   "cell_type": "code",
   "execution_count": null,
   "metadata": {},
   "outputs": [],
   "source": [
    "e_factors = np.array([1., 0.84, 0.63, 0.515, 0.09])\n",
    "\n",
    "# for ef in e_factors:\n",
    "#     w0 = gd.PhaseSpacePosition(pos=[10, 0, 0]*u.kpc,\n",
    "#                                vel=[0, 0, 234.2*ef]*u.km/u.s)\n",
    "#     orbit = pot.integrate_orbit(w0, dt=0.5, t1=0, t2=6*u.Gyr)\n",
    "    # print(orbit.eccentricity())"
   ]
  },
  {
   "cell_type": "code",
   "execution_count": null,
   "metadata": {},
   "outputs": [],
   "source": [
    "Ms = [1e4, 1e5, 1e6, 1e7, 1e8] * u.Msun\n",
    "streams = []\n",
    "i = 0\n",
    "for ef in e_factors:\n",
    "    for m in Ms:\n",
    "        cache_filename = '../cache/{0}.hdf5'.format(i)\n",
    "        if path.exists(cache_filename):\n",
    "            continue\n",
    "            \n",
    "        w0 = gd.PhaseSpacePosition(pos=[10, 0, 0]*u.kpc,\n",
    "                                   vel=[0, 0, 234.2*ef]*u.km/u.s)\n",
    "        orbit = pot.integrate_orbit(w0, dt=0.5, t1=0, t2=4*u.Gyr)\n",
    "        \n",
    "        print('dude', m)\n",
    "        stream = fardal_stream(H, orbit, m, release_every=8, \n",
    "                               snapshot_filename=cache_filename)\n",
    "        i += 1\n",
    "    break"
   ]
  },
  {
   "cell_type": "code",
   "execution_count": null,
   "metadata": {},
   "outputs": [],
   "source": [
    "i = 0\n",
    "cache_filename = '../cache/{0}.hdf5'.format(i)\n",
    "\n",
    "with h5py.File(cache_filename, 'r') as f:\n",
    "    print(f['pos'].shape)\n",
    "    \n",
    "fig, ax = plt.subplots(1, 1, figsize=(6, 6))"
   ]
  },
  {
   "cell_type": "code",
   "execution_count": null,
   "metadata": {},
   "outputs": [],
   "source": [
    "2000 * 8001 * 6 * 8 / 1024 / 1024 / 1024"
   ]
  },
  {
   "cell_type": "code",
   "execution_count": null,
   "metadata": {},
   "outputs": [],
   "source": []
  },
  {
   "cell_type": "code",
   "execution_count": null,
   "metadata": {},
   "outputs": [],
   "source": []
  },
  {
   "cell_type": "code",
   "execution_count": null,
   "metadata": {},
   "outputs": [],
   "source": []
  }
 ],
 "metadata": {
  "kernelspec": {
   "display_name": "Python [default]",
   "language": "python",
   "name": "python3"
  },
  "language_info": {
   "codemirror_mode": {
    "name": "ipython",
    "version": 3
   },
   "file_extension": ".py",
   "mimetype": "text/x-python",
   "name": "python",
   "nbconvert_exporter": "python",
   "pygments_lexer": "ipython3",
   "version": "3.6.4"
  }
 },
 "nbformat": 4,
 "nbformat_minor": 2
}