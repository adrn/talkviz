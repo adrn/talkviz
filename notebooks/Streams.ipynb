{
 "cells": [
  {
   "cell_type": "code",
   "execution_count": null,
   "metadata": {},
   "outputs": [],
   "source": [
    "from os import path\n",
    "\n",
    "# Third-party\n",
    "import astropy.units as u\n",
    "import h5py\n",
    "from matplotlib.animation import FuncAnimation\n",
    "import matplotlib.pyplot as plt\n",
    "import numpy as np\n",
    "%matplotlib inline\n",
    "\n",
    "# Custom\n",
    "import gala.coordinates as gc\n",
    "import gala.dynamics as gd\n",
    "from gala.dynamics.mockstream import fardal_stream\n",
    "import gala.integrate as gi\n",
    "import gala.potential as gp\n",
    "from gala.units import galactic"
   ]
  },
  {
   "cell_type": "code",
   "execution_count": null,
   "metadata": {},
   "outputs": [],
   "source": [
    "pot = gp.MilkyWayPotential()\n",
    "H = gp.Hamiltonian(pot)"
   ]
  },
  {
   "cell_type": "code",
   "execution_count": null,
   "metadata": {},
   "outputs": [],
   "source": [
    "e_factors = np.array([1., 0.84, 0.63, 0.515, 0.09])\n",
    "\n",
    "# for ef in e_factors:\n",
    "#     w0 = gd.PhaseSpacePosition(pos=[10, 0, 0]*u.kpc,\n",
    "#                                vel=[0, 0, 234.2*ef]*u.km/u.s)\n",
    "#     orbit = pot.integrate_orbit(w0, dt=0.5, t1=0, t2=6*u.Gyr)\n",
    "    # print(orbit.eccentricity())"
   ]
  },
  {
   "cell_type": "code",
   "execution_count": null,
   "metadata": {},
   "outputs": [],
   "source": [
    "Ms = [1e5] * u.Msun\n",
    "streams = []\n",
    "i = 0\n",
    "for ef in e_factors:\n",
    "    for m in Ms:\n",
    "        cache_filename = '../cache/{0}.hdf5'.format(i)\n",
    "        if path.exists(cache_filename):\n",
    "            continue\n",
    "            \n",
    "        w0 = gd.PhaseSpacePosition(pos=[10, 0, 0]*u.kpc,\n",
    "                                   vel=[0, 0, 234.2*ef]*u.km/u.s)\n",
    "        orbit = pot.integrate_orbit(w0, dt=0.5, t1=0, t2=4*u.Gyr)\n",
    "        \n",
    "        print('dude', m)\n",
    "        stream = fardal_stream(H, orbit, m, release_every=8, \n",
    "                               snapshot_filename=cache_filename)\n",
    "        i += 1"
   ]
  },
  {
   "cell_type": "code",
   "execution_count": null,
   "metadata": {},
   "outputs": [],
   "source": [
    "for i in range(3):\n",
    "    cache_filename = '../cache/{0}.hdf5'.format(i)\n",
    "\n",
    "    with h5py.File(cache_filename, 'r') as f:\n",
    "        x, y, z = f['pos'][:]\n",
    "\n",
    "    fig, ax = plt.subplots(1, 1, figsize=(6, 6))\n",
    "\n",
    "    j = 0\n",
    "    l, = ax.plot(x[j, :], z[j, :], \n",
    "                 marker='o', ls='none', \n",
    "                 ms=3, color='k', alpha=0.2)\n",
    "\n",
    "    ax.set_xlim(-12, 12)\n",
    "    ax.set_ylim(-12, 12)\n",
    "    fig.tight_layout()\n",
    "\n",
    "    def animate(j):\n",
    "        l.set_data(x[j, :], z[j, :])\n",
    "        return l,\n",
    "\n",
    "    # ani = FuncAnimation(fig, animate, np.arange(0, len(x), 4),\n",
    "    ani = FuncAnimation(fig, animate, np.arange(4000, 5000, 4),\n",
    "                        interval=8, blit=True)\n",
    "    ani.save('/Users/adrian/Downloads/test{}.mp4'.format(i), \n",
    "             dpi=150, bitrate=-1)\n",
    "    del ani"
   ]
  },
  {
   "cell_type": "code",
   "execution_count": null,
   "metadata": {},
   "outputs": [],
   "source": []
  },
  {
   "cell_type": "code",
   "execution_count": null,
   "metadata": {},
   "outputs": [],
   "source": []
  },
  {
   "cell_type": "code",
   "execution_count": null,
   "metadata": {},
   "outputs": [],
   "source": []
  }
 ],
 "metadata": {
  "kernelspec": {
   "display_name": "Python [default]",
   "language": "python",
   "name": "python3"
  },
  "language_info": {
   "codemirror_mode": {
    "name": "ipython",
    "version": 3
   },
   "file_extension": ".py",
   "mimetype": "text/x-python",
   "name": "python",
   "nbconvert_exporter": "python",
   "pygments_lexer": "ipython3",
   "version": "3.6.4"
  }
 },
 "nbformat": 4,
 "nbformat_minor": 2
}